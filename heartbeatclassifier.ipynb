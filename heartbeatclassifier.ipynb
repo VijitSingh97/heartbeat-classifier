{
 "cells": [
  {
   "cell_type": "code",
   "execution_count": 1,
   "metadata": {},
   "outputs": [
    {
     "name": "stdout",
     "output_type": "stream",
     "text": [
      "CPU times: user 1.16 s, sys: 302 ms, total: 1.46 s\n",
      "Wall time: 1.59 s\n"
     ]
    }
   ],
   "source": [
    "%%time\n",
    "\n",
    "# import libraries used in this project \n",
    "\n",
    "import os\n",
    "import fnmatch\n",
    "\n",
    "import numpy as np\n",
    "import pandas as pd\n",
    "import librosa\n",
    "import matplotlib.pyplot as plt\n",
    "import seaborn as sns\n",
    "\n",
    "# configure matplot to not warn on large data set \n",
    "plt.rcParams.update({'figure.max_open_warning': 0})\n",
    "%matplotlib inline"
   ]
  },
  {
   "cell_type": "code",
   "execution_count": 2,
   "metadata": {},
   "outputs": [
    {
     "name": "stdout",
     "output_type": "stream",
     "text": [
      "CPU times: user 3 µs, sys: 0 ns, total: 3 µs\n",
      "Wall time: 4.05 µs\n"
     ]
    }
   ],
   "source": [
    "%%time\n",
    "\n",
    "#\n",
    "# method to get zero_crossing, sepctral_centroid, spectral_rolloff, and chroma_stft features from .wav files\n",
    "#\n",
    "def getDataFrame(inputFolders,dataFrameColumns,heartbeatclassifier):\n",
    "    inputList=[]\n",
    "    counter=0\n",
    "    for inputFolder in inputFolders:\n",
    "        for soundType in heartbeatclassifier:\n",
    "            filesOfCategory=fnmatch.filter(os.listdir(\"./data/\"+inputFolder+\"/\"),soundType+\"*.wav\")\n",
    "            for file in filesOfCategory:\n",
    "                x,sr=librosa.load(\"./data/\"+inputFolder+\"/\"+file,duration=5,res_type='kaiser_fast')\n",
    "                inputList.append([np.mean(x) for x in librosa.feature.mfcc(x,sr=sr)])\n",
    "                inputList[counter].append(sum(librosa.zero_crossings(x)))\n",
    "                inputList[counter].append(np.mean(librosa.feature.spectral_centroid(x)))\n",
    "                inputList[counter].append(np.mean(librosa.feature.spectral_rolloff(x,sr=sr)))\n",
    "                inputList[counter].append(np.mean(librosa.feature.chroma_stft(x,sr=sr)))\n",
    "                inputList[counter].append(soundType)\n",
    "                counter+=1\n",
    "    return pd.DataFrame(inputList,columns=dataFrameColumns)"
   ]
  },
  {
   "cell_type": "code",
   "execution_count": 3,
   "metadata": {},
   "outputs": [
    {
     "name": "stderr",
     "output_type": "stream",
     "text": [
      "/Users/vijit/opt/anaconda3/lib/python3.8/site-packages/librosa/core/pitch.py:153: UserWarning: Trying to estimate tuning from empty frequency set.\n",
      "  warnings.warn(\"Trying to estimate tuning from empty frequency set.\")\n"
     ]
    },
    {
     "name": "stdout",
     "output_type": "stream",
     "text": [
      "CPU times: user 14min 53s, sys: 17.7 s, total: 15min 11s\n",
      "Wall time: 2min 18s\n"
     ]
    }
   ],
   "source": [
    "%%time\n",
    "\n",
    "# music_folders=[\"set_a\"]\n",
    "music_folders=[\"set_a\",\"set_b\"]\n",
    "\n",
    "# label frequency and librosa feature column headers\n",
    "inputColums1=[\"Freq\"+str(i) for i in range(20)]\n",
    "inputColums2=[\"zero\",\"centroid\",\"rolloff\",\"chromagram\",\"outputbeatclassifier\"]\n",
    "inputColums1.extend(inputColums2)\n",
    "\n",
    "# label output classifiers\n",
    "outputClassifier=[\"normal\",\"artifact\",\"murmur\",\"extrahls\"]\n",
    "\n",
    "# process data\n",
    "dataframe=getDataFrame(music_folders,inputColums1,outputClassifier)\n",
    "\n",
    "# save data frame to csv\n",
    "dataframe.to_csv(r'music_dataframe.csv', index = False)"
   ]
  },
  {
   "cell_type": "code",
   "execution_count": 4,
   "metadata": {},
   "outputs": [
    {
     "name": "stdout",
     "output_type": "stream",
     "text": [
      "CPU times: user 1.12 ms, sys: 66 µs, total: 1.18 ms\n",
      "Wall time: 160 µs\n"
     ]
    },
    {
     "data": {
      "text/html": [
       "<div>\n",
       "<style scoped>\n",
       "    .dataframe tbody tr th:only-of-type {\n",
       "        vertical-align: middle;\n",
       "    }\n",
       "\n",
       "    .dataframe tbody tr th {\n",
       "        vertical-align: top;\n",
       "    }\n",
       "\n",
       "    .dataframe thead th {\n",
       "        text-align: right;\n",
       "    }\n",
       "</style>\n",
       "<table border=\"1\" class=\"dataframe\">\n",
       "  <thead>\n",
       "    <tr style=\"text-align: right;\">\n",
       "      <th></th>\n",
       "      <th>Freq0</th>\n",
       "      <th>Freq1</th>\n",
       "      <th>Freq2</th>\n",
       "      <th>Freq3</th>\n",
       "      <th>Freq4</th>\n",
       "      <th>Freq5</th>\n",
       "      <th>Freq6</th>\n",
       "      <th>Freq7</th>\n",
       "      <th>Freq8</th>\n",
       "      <th>Freq9</th>\n",
       "      <th>...</th>\n",
       "      <th>Freq15</th>\n",
       "      <th>Freq16</th>\n",
       "      <th>Freq17</th>\n",
       "      <th>Freq18</th>\n",
       "      <th>Freq19</th>\n",
       "      <th>zero</th>\n",
       "      <th>centroid</th>\n",
       "      <th>rolloff</th>\n",
       "      <th>chromagram</th>\n",
       "      <th>outputbeatclassifier</th>\n",
       "    </tr>\n",
       "  </thead>\n",
       "  <tbody>\n",
       "    <tr>\n",
       "      <th>0</th>\n",
       "      <td>-489.621796</td>\n",
       "      <td>70.239189</td>\n",
       "      <td>61.142830</td>\n",
       "      <td>48.898048</td>\n",
       "      <td>36.555328</td>\n",
       "      <td>26.469486</td>\n",
       "      <td>19.623278</td>\n",
       "      <td>15.663741</td>\n",
       "      <td>13.472218</td>\n",
       "      <td>11.869776</td>\n",
       "      <td>...</td>\n",
       "      <td>2.056817</td>\n",
       "      <td>2.049077</td>\n",
       "      <td>2.306891</td>\n",
       "      <td>2.535395</td>\n",
       "      <td>2.566249</td>\n",
       "      <td>605</td>\n",
       "      <td>157.260560</td>\n",
       "      <td>208.852132</td>\n",
       "      <td>0.743970</td>\n",
       "      <td>normal</td>\n",
       "    </tr>\n",
       "    <tr>\n",
       "      <th>1</th>\n",
       "      <td>-406.428528</td>\n",
       "      <td>153.238861</td>\n",
       "      <td>-1.369525</td>\n",
       "      <td>16.263828</td>\n",
       "      <td>10.937109</td>\n",
       "      <td>16.939487</td>\n",
       "      <td>4.494656</td>\n",
       "      <td>6.633343</td>\n",
       "      <td>6.228123</td>\n",
       "      <td>3.696192</td>\n",
       "      <td>...</td>\n",
       "      <td>-2.767086</td>\n",
       "      <td>-3.141026</td>\n",
       "      <td>-3.952870</td>\n",
       "      <td>-3.527147</td>\n",
       "      <td>-4.081270</td>\n",
       "      <td>7624</td>\n",
       "      <td>1046.537575</td>\n",
       "      <td>1888.940430</td>\n",
       "      <td>0.663114</td>\n",
       "      <td>normal</td>\n",
       "    </tr>\n",
       "    <tr>\n",
       "      <th>2</th>\n",
       "      <td>-511.582214</td>\n",
       "      <td>82.091522</td>\n",
       "      <td>6.478385</td>\n",
       "      <td>35.782322</td>\n",
       "      <td>4.926917</td>\n",
       "      <td>23.501289</td>\n",
       "      <td>2.172138</td>\n",
       "      <td>16.772097</td>\n",
       "      <td>-0.364136</td>\n",
       "      <td>12.615508</td>\n",
       "      <td>...</td>\n",
       "      <td>4.534374</td>\n",
       "      <td>-2.864163</td>\n",
       "      <td>2.395745</td>\n",
       "      <td>-2.710135</td>\n",
       "      <td>1.320220</td>\n",
       "      <td>22103</td>\n",
       "      <td>2243.817234</td>\n",
       "      <td>4613.987223</td>\n",
       "      <td>0.754454</td>\n",
       "      <td>normal</td>\n",
       "    </tr>\n",
       "    <tr>\n",
       "      <th>3</th>\n",
       "      <td>-514.132935</td>\n",
       "      <td>78.292191</td>\n",
       "      <td>65.463066</td>\n",
       "      <td>49.305317</td>\n",
       "      <td>34.505836</td>\n",
       "      <td>23.954039</td>\n",
       "      <td>18.073490</td>\n",
       "      <td>15.343872</td>\n",
       "      <td>13.722631</td>\n",
       "      <td>11.918728</td>\n",
       "      <td>...</td>\n",
       "      <td>1.235011</td>\n",
       "      <td>1.578198</td>\n",
       "      <td>2.168477</td>\n",
       "      <td>2.570371</td>\n",
       "      <td>2.564390</td>\n",
       "      <td>660</td>\n",
       "      <td>167.595804</td>\n",
       "      <td>213.587443</td>\n",
       "      <td>0.703607</td>\n",
       "      <td>normal</td>\n",
       "    </tr>\n",
       "    <tr>\n",
       "      <th>4</th>\n",
       "      <td>-371.671722</td>\n",
       "      <td>155.286530</td>\n",
       "      <td>35.827465</td>\n",
       "      <td>19.501045</td>\n",
       "      <td>37.935871</td>\n",
       "      <td>34.704395</td>\n",
       "      <td>17.897236</td>\n",
       "      <td>9.181622</td>\n",
       "      <td>10.555705</td>\n",
       "      <td>10.437612</td>\n",
       "      <td>...</td>\n",
       "      <td>-3.627311</td>\n",
       "      <td>-3.266012</td>\n",
       "      <td>0.071095</td>\n",
       "      <td>0.160198</td>\n",
       "      <td>-1.439477</td>\n",
       "      <td>1834</td>\n",
       "      <td>513.218302</td>\n",
       "      <td>749.435967</td>\n",
       "      <td>0.634785</td>\n",
       "      <td>normal</td>\n",
       "    </tr>\n",
       "  </tbody>\n",
       "</table>\n",
       "<p>5 rows × 25 columns</p>\n",
       "</div>"
      ],
      "text/plain": [
       "        Freq0       Freq1      Freq2      Freq3      Freq4      Freq5  \\\n",
       "0 -489.621796   70.239189  61.142830  48.898048  36.555328  26.469486   \n",
       "1 -406.428528  153.238861  -1.369525  16.263828  10.937109  16.939487   \n",
       "2 -511.582214   82.091522   6.478385  35.782322   4.926917  23.501289   \n",
       "3 -514.132935   78.292191  65.463066  49.305317  34.505836  23.954039   \n",
       "4 -371.671722  155.286530  35.827465  19.501045  37.935871  34.704395   \n",
       "\n",
       "       Freq6      Freq7      Freq8      Freq9  ...    Freq15    Freq16  \\\n",
       "0  19.623278  15.663741  13.472218  11.869776  ...  2.056817  2.049077   \n",
       "1   4.494656   6.633343   6.228123   3.696192  ... -2.767086 -3.141026   \n",
       "2   2.172138  16.772097  -0.364136  12.615508  ...  4.534374 -2.864163   \n",
       "3  18.073490  15.343872  13.722631  11.918728  ...  1.235011  1.578198   \n",
       "4  17.897236   9.181622  10.555705  10.437612  ... -3.627311 -3.266012   \n",
       "\n",
       "     Freq17    Freq18    Freq19   zero     centroid      rolloff  chromagram  \\\n",
       "0  2.306891  2.535395  2.566249    605   157.260560   208.852132    0.743970   \n",
       "1 -3.952870 -3.527147 -4.081270   7624  1046.537575  1888.940430    0.663114   \n",
       "2  2.395745 -2.710135  1.320220  22103  2243.817234  4613.987223    0.754454   \n",
       "3  2.168477  2.570371  2.564390    660   167.595804   213.587443    0.703607   \n",
       "4  0.071095  0.160198 -1.439477   1834   513.218302   749.435967    0.634785   \n",
       "\n",
       "   outputbeatclassifier  \n",
       "0                normal  \n",
       "1                normal  \n",
       "2                normal  \n",
       "3                normal  \n",
       "4                normal  \n",
       "\n",
       "[5 rows x 25 columns]"
      ]
     },
     "execution_count": 4,
     "metadata": {},
     "output_type": "execute_result"
    }
   ],
   "source": [
    "%%time\n",
    "\n",
    "# print data frame\n",
    "dataframe.head()"
   ]
  },
  {
   "cell_type": "code",
   "execution_count": 5,
   "metadata": {},
   "outputs": [
    {
     "name": "stdout",
     "output_type": "stream",
     "text": [
      "CPU times: user 99.4 ms, sys: 5.61 ms, total: 105 ms\n",
      "Wall time: 13.2 ms\n"
     ]
    },
    {
     "data": {
      "text/html": [
       "<div>\n",
       "<style scoped>\n",
       "    .dataframe tbody tr th:only-of-type {\n",
       "        vertical-align: middle;\n",
       "    }\n",
       "\n",
       "    .dataframe tbody tr th {\n",
       "        vertical-align: top;\n",
       "    }\n",
       "\n",
       "    .dataframe thead th {\n",
       "        text-align: right;\n",
       "    }\n",
       "</style>\n",
       "<table border=\"1\" class=\"dataframe\">\n",
       "  <thead>\n",
       "    <tr style=\"text-align: right;\">\n",
       "      <th></th>\n",
       "      <th>zero</th>\n",
       "      <th>centroid</th>\n",
       "      <th>rolloff</th>\n",
       "      <th>chromagram</th>\n",
       "    </tr>\n",
       "  </thead>\n",
       "  <tbody>\n",
       "    <tr>\n",
       "      <th>count</th>\n",
       "      <td>539.000000</td>\n",
       "      <td>539.000000</td>\n",
       "      <td>539.000000</td>\n",
       "      <td>539.000000</td>\n",
       "    </tr>\n",
       "    <tr>\n",
       "      <th>mean</th>\n",
       "      <td>4286.894249</td>\n",
       "      <td>618.561566</td>\n",
       "      <td>1208.803925</td>\n",
       "      <td>0.661149</td>\n",
       "    </tr>\n",
       "    <tr>\n",
       "      <th>std</th>\n",
       "      <td>9063.343336</td>\n",
       "      <td>870.365388</td>\n",
       "      <td>1504.116326</td>\n",
       "      <td>0.081917</td>\n",
       "    </tr>\n",
       "    <tr>\n",
       "      <th>min</th>\n",
       "      <td>161.000000</td>\n",
       "      <td>101.834424</td>\n",
       "      <td>74.468994</td>\n",
       "      <td>0.115923</td>\n",
       "    </tr>\n",
       "    <tr>\n",
       "      <th>25%</th>\n",
       "      <td>960.500000</td>\n",
       "      <td>267.172097</td>\n",
       "      <td>546.951963</td>\n",
       "      <td>0.640450</td>\n",
       "    </tr>\n",
       "    <tr>\n",
       "      <th>50%</th>\n",
       "      <td>1558.000000</td>\n",
       "      <td>329.344657</td>\n",
       "      <td>681.509809</td>\n",
       "      <td>0.680350</td>\n",
       "    </tr>\n",
       "    <tr>\n",
       "      <th>75%</th>\n",
       "      <td>2647.500000</td>\n",
       "      <td>430.553676</td>\n",
       "      <td>874.944848</td>\n",
       "      <td>0.707019</td>\n",
       "    </tr>\n",
       "    <tr>\n",
       "      <th>max</th>\n",
       "      <td>75315.000000</td>\n",
       "      <td>6769.973347</td>\n",
       "      <td>8923.169963</td>\n",
       "      <td>0.806292</td>\n",
       "    </tr>\n",
       "  </tbody>\n",
       "</table>\n",
       "</div>"
      ],
      "text/plain": [
       "               zero     centroid      rolloff  chromagram\n",
       "count    539.000000   539.000000   539.000000  539.000000\n",
       "mean    4286.894249   618.561566  1208.803925    0.661149\n",
       "std     9063.343336   870.365388  1504.116326    0.081917\n",
       "min      161.000000   101.834424    74.468994    0.115923\n",
       "25%      960.500000   267.172097   546.951963    0.640450\n",
       "50%     1558.000000   329.344657   681.509809    0.680350\n",
       "75%     2647.500000   430.553676   874.944848    0.707019\n",
       "max    75315.000000  6769.973347  8923.169963    0.806292"
      ]
     },
     "execution_count": 5,
     "metadata": {},
     "output_type": "execute_result"
    }
   ],
   "source": [
    "%%time\n",
    "\n",
    "# statistically describe librosa features\n",
    "columnsToDescribe=[\"zero\",\"centroid\",\"rolloff\",\"chromagram\"]\n",
    "dataframe[columnsToDescribe].describe()"
   ]
  },
  {
   "cell_type": "code",
   "execution_count": 6,
   "metadata": {},
   "outputs": [
    {
     "name": "stdout",
     "output_type": "stream",
     "text": [
      "CPU times: user 301 ms, sys: 17.4 ms, total: 319 ms\n",
      "Wall time: 40.9 ms\n"
     ]
    },
    {
     "data": {
      "text/html": [
       "<div>\n",
       "<style scoped>\n",
       "    .dataframe tbody tr th:only-of-type {\n",
       "        vertical-align: middle;\n",
       "    }\n",
       "\n",
       "    .dataframe tbody tr th {\n",
       "        vertical-align: top;\n",
       "    }\n",
       "\n",
       "    .dataframe thead th {\n",
       "        text-align: right;\n",
       "    }\n",
       "</style>\n",
       "<table border=\"1\" class=\"dataframe\">\n",
       "  <thead>\n",
       "    <tr style=\"text-align: right;\">\n",
       "      <th></th>\n",
       "      <th>Freq0</th>\n",
       "      <th>Freq1</th>\n",
       "      <th>Freq2</th>\n",
       "      <th>Freq3</th>\n",
       "      <th>Freq4</th>\n",
       "      <th>Freq5</th>\n",
       "      <th>Freq6</th>\n",
       "      <th>Freq7</th>\n",
       "      <th>Freq8</th>\n",
       "      <th>Freq9</th>\n",
       "      <th>Freq10</th>\n",
       "      <th>Freq11</th>\n",
       "      <th>Freq12</th>\n",
       "      <th>Freq13</th>\n",
       "      <th>Freq14</th>\n",
       "      <th>Freq15</th>\n",
       "      <th>Freq16</th>\n",
       "      <th>Freq17</th>\n",
       "      <th>Freq18</th>\n",
       "      <th>Freq19</th>\n",
       "    </tr>\n",
       "  </thead>\n",
       "  <tbody>\n",
       "    <tr>\n",
       "      <th>count</th>\n",
       "      <td>539.000000</td>\n",
       "      <td>539.000000</td>\n",
       "      <td>539.000000</td>\n",
       "      <td>539.000000</td>\n",
       "      <td>539.000000</td>\n",
       "      <td>539.000000</td>\n",
       "      <td>539.000000</td>\n",
       "      <td>539.000000</td>\n",
       "      <td>539.000000</td>\n",
       "      <td>539.000000</td>\n",
       "      <td>539.000000</td>\n",
       "      <td>539.000000</td>\n",
       "      <td>539.000000</td>\n",
       "      <td>539.000000</td>\n",
       "      <td>539.000000</td>\n",
       "      <td>539.000000</td>\n",
       "      <td>539.000000</td>\n",
       "      <td>539.000000</td>\n",
       "      <td>539.000000</td>\n",
       "      <td>539.000000</td>\n",
       "    </tr>\n",
       "    <tr>\n",
       "      <th>mean</th>\n",
       "      <td>-406.045462</td>\n",
       "      <td>169.288606</td>\n",
       "      <td>53.323498</td>\n",
       "      <td>-1.084115</td>\n",
       "      <td>1.276139</td>\n",
       "      <td>26.889087</td>\n",
       "      <td>19.883785</td>\n",
       "      <td>2.657310</td>\n",
       "      <td>-3.351093</td>\n",
       "      <td>10.569057</td>\n",
       "      <td>12.805894</td>\n",
       "      <td>4.211871</td>\n",
       "      <td>-5.028657</td>\n",
       "      <td>0.621873</td>\n",
       "      <td>5.684094</td>\n",
       "      <td>4.151072</td>\n",
       "      <td>-2.303274</td>\n",
       "      <td>-0.733562</td>\n",
       "      <td>3.428893</td>\n",
       "      <td>4.031937</td>\n",
       "    </tr>\n",
       "    <tr>\n",
       "      <th>std</th>\n",
       "      <td>96.656671</td>\n",
       "      <td>50.163977</td>\n",
       "      <td>27.165184</td>\n",
       "      <td>23.925762</td>\n",
       "      <td>13.106193</td>\n",
       "      <td>9.859723</td>\n",
       "      <td>12.877723</td>\n",
       "      <td>9.368896</td>\n",
       "      <td>8.476874</td>\n",
       "      <td>6.422815</td>\n",
       "      <td>10.446832</td>\n",
       "      <td>4.832663</td>\n",
       "      <td>4.642851</td>\n",
       "      <td>3.490314</td>\n",
       "      <td>6.504519</td>\n",
       "      <td>3.803879</td>\n",
       "      <td>4.338677</td>\n",
       "      <td>3.955479</td>\n",
       "      <td>4.882095</td>\n",
       "      <td>3.620167</td>\n",
       "    </tr>\n",
       "    <tr>\n",
       "      <th>min</th>\n",
       "      <td>-1081.043335</td>\n",
       "      <td>-29.527250</td>\n",
       "      <td>-72.262596</td>\n",
       "      <td>-53.103825</td>\n",
       "      <td>-28.883732</td>\n",
       "      <td>-31.063078</td>\n",
       "      <td>-44.440163</td>\n",
       "      <td>-43.664692</td>\n",
       "      <td>-49.969437</td>\n",
       "      <td>-38.816525</td>\n",
       "      <td>-31.041985</td>\n",
       "      <td>-35.024479</td>\n",
       "      <td>-22.014156</td>\n",
       "      <td>-18.243839</td>\n",
       "      <td>-20.437279</td>\n",
       "      <td>-14.023951</td>\n",
       "      <td>-13.795611</td>\n",
       "      <td>-25.276119</td>\n",
       "      <td>-16.287870</td>\n",
       "      <td>-11.521476</td>\n",
       "    </tr>\n",
       "    <tr>\n",
       "      <th>25%</th>\n",
       "      <td>-446.447266</td>\n",
       "      <td>154.142403</td>\n",
       "      <td>51.089611</td>\n",
       "      <td>-17.432729</td>\n",
       "      <td>-5.743252</td>\n",
       "      <td>22.367726</td>\n",
       "      <td>18.751729</td>\n",
       "      <td>-1.932964</td>\n",
       "      <td>-7.997710</td>\n",
       "      <td>8.170370</td>\n",
       "      <td>12.157995</td>\n",
       "      <td>2.099072</td>\n",
       "      <td>-7.785314</td>\n",
       "      <td>-1.340909</td>\n",
       "      <td>4.659462</td>\n",
       "      <td>2.821086</td>\n",
       "      <td>-4.629939</td>\n",
       "      <td>-2.253933</td>\n",
       "      <td>2.464606</td>\n",
       "      <td>2.944626</td>\n",
       "    </tr>\n",
       "    <tr>\n",
       "      <th>50%</th>\n",
       "      <td>-403.137756</td>\n",
       "      <td>178.680283</td>\n",
       "      <td>62.443062</td>\n",
       "      <td>-3.918440</td>\n",
       "      <td>-0.049698</td>\n",
       "      <td>27.606680</td>\n",
       "      <td>23.784496</td>\n",
       "      <td>2.561381</td>\n",
       "      <td>-3.031707</td>\n",
       "      <td>11.370013</td>\n",
       "      <td>16.101429</td>\n",
       "      <td>5.065814</td>\n",
       "      <td>-5.178867</td>\n",
       "      <td>0.421793</td>\n",
       "      <td>7.575893</td>\n",
       "      <td>5.009160</td>\n",
       "      <td>-2.207715</td>\n",
       "      <td>-0.998493</td>\n",
       "      <td>4.589147</td>\n",
       "      <td>4.891876</td>\n",
       "    </tr>\n",
       "    <tr>\n",
       "      <th>75%</th>\n",
       "      <td>-363.788162</td>\n",
       "      <td>200.125778</td>\n",
       "      <td>68.689850</td>\n",
       "      <td>9.829993</td>\n",
       "      <td>5.678255</td>\n",
       "      <td>32.710878</td>\n",
       "      <td>27.464014</td>\n",
       "      <td>7.885830</td>\n",
       "      <td>0.961425</td>\n",
       "      <td>13.977825</td>\n",
       "      <td>18.829214</td>\n",
       "      <td>7.062870</td>\n",
       "      <td>-2.826142</td>\n",
       "      <td>1.951452</td>\n",
       "      <td>9.452503</td>\n",
       "      <td>6.367694</td>\n",
       "      <td>-0.179014</td>\n",
       "      <td>0.251062</td>\n",
       "      <td>5.895007</td>\n",
       "      <td>6.143464</td>\n",
       "    </tr>\n",
       "    <tr>\n",
       "      <th>max</th>\n",
       "      <td>130.121475</td>\n",
       "      <td>271.676331</td>\n",
       "      <td>91.316147</td>\n",
       "      <td>62.930393</td>\n",
       "      <td>48.075516</td>\n",
       "      <td>50.836891</td>\n",
       "      <td>48.271702</td>\n",
       "      <td>38.122517</td>\n",
       "      <td>20.969564</td>\n",
       "      <td>24.214865</td>\n",
       "      <td>27.890099</td>\n",
       "      <td>23.331343</td>\n",
       "      <td>23.732828</td>\n",
       "      <td>29.896132</td>\n",
       "      <td>43.768089</td>\n",
       "      <td>27.439344</td>\n",
       "      <td>47.039963</td>\n",
       "      <td>50.584553</td>\n",
       "      <td>39.139015</td>\n",
       "      <td>32.866734</td>\n",
       "    </tr>\n",
       "  </tbody>\n",
       "</table>\n",
       "</div>"
      ],
      "text/plain": [
       "             Freq0       Freq1       Freq2       Freq3       Freq4  \\\n",
       "count   539.000000  539.000000  539.000000  539.000000  539.000000   \n",
       "mean   -406.045462  169.288606   53.323498   -1.084115    1.276139   \n",
       "std      96.656671   50.163977   27.165184   23.925762   13.106193   \n",
       "min   -1081.043335  -29.527250  -72.262596  -53.103825  -28.883732   \n",
       "25%    -446.447266  154.142403   51.089611  -17.432729   -5.743252   \n",
       "50%    -403.137756  178.680283   62.443062   -3.918440   -0.049698   \n",
       "75%    -363.788162  200.125778   68.689850    9.829993    5.678255   \n",
       "max     130.121475  271.676331   91.316147   62.930393   48.075516   \n",
       "\n",
       "            Freq5       Freq6       Freq7       Freq8       Freq9      Freq10  \\\n",
       "count  539.000000  539.000000  539.000000  539.000000  539.000000  539.000000   \n",
       "mean    26.889087   19.883785    2.657310   -3.351093   10.569057   12.805894   \n",
       "std      9.859723   12.877723    9.368896    8.476874    6.422815   10.446832   \n",
       "min    -31.063078  -44.440163  -43.664692  -49.969437  -38.816525  -31.041985   \n",
       "25%     22.367726   18.751729   -1.932964   -7.997710    8.170370   12.157995   \n",
       "50%     27.606680   23.784496    2.561381   -3.031707   11.370013   16.101429   \n",
       "75%     32.710878   27.464014    7.885830    0.961425   13.977825   18.829214   \n",
       "max     50.836891   48.271702   38.122517   20.969564   24.214865   27.890099   \n",
       "\n",
       "           Freq11      Freq12      Freq13      Freq14      Freq15      Freq16  \\\n",
       "count  539.000000  539.000000  539.000000  539.000000  539.000000  539.000000   \n",
       "mean     4.211871   -5.028657    0.621873    5.684094    4.151072   -2.303274   \n",
       "std      4.832663    4.642851    3.490314    6.504519    3.803879    4.338677   \n",
       "min    -35.024479  -22.014156  -18.243839  -20.437279  -14.023951  -13.795611   \n",
       "25%      2.099072   -7.785314   -1.340909    4.659462    2.821086   -4.629939   \n",
       "50%      5.065814   -5.178867    0.421793    7.575893    5.009160   -2.207715   \n",
       "75%      7.062870   -2.826142    1.951452    9.452503    6.367694   -0.179014   \n",
       "max     23.331343   23.732828   29.896132   43.768089   27.439344   47.039963   \n",
       "\n",
       "           Freq17      Freq18      Freq19  \n",
       "count  539.000000  539.000000  539.000000  \n",
       "mean    -0.733562    3.428893    4.031937  \n",
       "std      3.955479    4.882095    3.620167  \n",
       "min    -25.276119  -16.287870  -11.521476  \n",
       "25%     -2.253933    2.464606    2.944626  \n",
       "50%     -0.998493    4.589147    4.891876  \n",
       "75%      0.251062    5.895007    6.143464  \n",
       "max     50.584553   39.139015   32.866734  "
      ]
     },
     "execution_count": 6,
     "metadata": {},
     "output_type": "execute_result"
    }
   ],
   "source": [
    "%%time\n",
    "\n",
    "# statistically describe frequencies\n",
    "freqColums=[\"Freq\"+str(i) for i in range(20)]\n",
    "dataframe[freqColums].describe()"
   ]
  },
  {
   "cell_type": "code",
   "execution_count": 7,
   "metadata": {},
   "outputs": [
    {
     "name": "stdout",
     "output_type": "stream",
     "text": [
      "CPU times: user 811 ms, sys: 19.8 ms, total: 831 ms\n",
      "Wall time: 616 ms\n"
     ]
    },
    {
     "data": {
      "image/png": "[encoded data removed]",
      "text/plain": [
       "<Figure size 432x288 with 1 Axes>"
      ]
     },
     "metadata": {
      "needs_background": "light"
     },
     "output_type": "display_data"
    },
    {
     "data": {
      "image/png": "[encoded data removed]",
      "text/plain": [
       "<Figure size 432x288 with 1 Axes>"
      ]
     },
     "metadata": {
      "needs_background": "light"
     },
     "output_type": "display_data"
    },
    {
     "data": {
      "image/png": "[encoded data removed]",
      "text/plain": [
       "<Figure size 432x288 with 1 Axes>"
      ]
     },
     "metadata": {
      "needs_background": "light"
     },
     "output_type": "display_data"
    },
    {
     "data": {
      "image/png": "[encoded data removed]",
      "text/plain": [
       "<Figure size 432x288 with 1 Axes>"
      ]
     },
     "metadata": {
      "needs_background": "light"
     },
     "output_type": "display_data"
    },
    {
     "data": {
      "image/png": "[encoded data removed]",
      "text/plain": [
       "<Figure size 432x288 with 1 Axes>"
      ]
     },
     "metadata": {
      "needs_background": "light"
     },
     "output_type": "display_data"
    },
    {
     "data": {
      "image/png": "[encoded data removed]",
      "text/plain": [
       "<Figure size 432x288 with 1 Axes>"
      ]
     },
     "metadata": {
      "needs_background": "light"
     },
     "output_type": "display_data"
    },
    {
     "data": {
      "image/png": "[encoded data removed]",
      "text/plain": [
       "<Figure size 432x288 with 1 Axes>"
      ]
     },
     "metadata": {
      "needs_background": "light"
     },
     "output_type": "display_data"
    },
    {
     "data": {
      "image/png": "[encoded data removed]",
      "text/plain": [
       "<Figure size 432x288 with 1 Axes>"
      ]
     },
     "metadata": {
      "needs_background": "light"
     },
     "output_type": "display_data"
    },
    {
     "data": {
      "image/png": "[encoded data removed]",
      "text/plain": [
       "<Figure size 432x288 with 1 Axes>"
      ]
     },
     "metadata": {
      "needs_background": "light"
     },
     "output_type": "display_data"
    },
    {
     "data": {
      "image/png": "[encoded data removed]",
      "text/plain": [
       "<Figure size 432x288 with 1 Axes>"
      ]
     },
     "metadata": {
      "needs_background": "light"
     },
     "output_type": "display_data"
    },
    {
     "data": {
      "image/png": "[encoded data removed]",
      "text/plain": [
       "<Figure size 432x288 with 1 Axes>"
      ]
     },
     "metadata": {
      "needs_background": "light"
     },
     "output_type": "display_data"
    },
    {
     "data": {
      "image/png": "[encoded data removed]",
      "text/plain": [
       "<Figure size 432x288 with 1 Axes>"
      ]
     },
     "metadata": {
      "needs_background": "light"
     },
     "output_type": "display_data"
    },
    {
     "data": {
      "image/png": "[encoded data removed]",
      "text/plain": [
       "<Figure size 432x288 with 1 Axes>"
      ]
     },
     "metadata": {
      "needs_background": "light"
     },
     "output_type": "display_data"
    },
    {
     "data": {
      "image/png": "[encoded data removed]",
      "text/plain": [
       "<Figure size 432x288 with 1 Axes>"
      ]
     },
     "metadata": {
      "needs_background": "light"
     },
     "output_type": "display_data"
    },
    {
     "data": {
      "image/png": "[encoded data removed]",
      "text/plain": [
       "<Figure size 432x288 with 1 Axes>"
      ]
     },
     "metadata": {
      "needs_background": "light"
     },
     "output_type": "display_data"
    },
    {
     "data": {
      "image/png": "[encoded data removed]",
      "text/plain": [
       "<Figure size 432x288 with 1 Axes>"
      ]
     },
     "metadata": {
      "needs_background": "light"
     },
     "output_type": "display_data"
    },
    {
     "data": {
      "image/png": "[encoded data removed]",
      "text/plain": [
       "<Figure size 432x288 with 1 Axes>"
      ]
     },
     "metadata": {
      "needs_background": "light"
     },
     "output_type": "display_data"
    },
    {
     "data": {
      "image/png": "[encoded data removed]",
      "text/plain": [
       "<Figure size 432x288 with 1 Axes>"
      ]
     },
     "metadata": {
      "needs_background": "light"
     },
     "output_type": "display_data"
    },
    {
     "data": {
      "image/png": "[encoded data removed]",
      "text/plain": [
       "<Figure size 432x288 with 1 Axes>"
      ]
     },
     "metadata": {
      "needs_background": "light"
     },
     "output_type": "display_data"
    },
    {
     "data": {
      "image/png": "[encoded data removed]",
      "text/plain": [
       "<Figure size 432x288 with 1 Axes>"
      ]
     },
     "metadata": {
      "needs_background": "light"
     },
     "output_type": "display_data"
    },
    {
     "data": {
      "image/png": "[encoded data removed]",
      "text/plain": [
       "<Figure size 432x288 with 1 Axes>"
      ]
     },
     "metadata": {
      "needs_background": "light"
     },
     "output_type": "display_data"
    },
    {
     "data": {
      "image/png": "[encoded data removed]",
      "text/plain": [
       "<Figure size 432x288 with 1 Axes>"
      ]
     },
     "metadata": {
      "needs_background": "light"
     },
     "output_type": "display_data"
    },
    {
     "data": {
      "image/png": "[encoded data removed]",
      "text/plain": [
       "<Figure size 432x288 with 1 Axes>"
      ]
     },
     "metadata": {
      "needs_background": "light"
     },
     "output_type": "display_data"
    },
    {
     "data": {
      "image/png": "[encoded data removed]",
      "text/plain": [
       "<Figure size 432x288 with 1 Axes>"
      ]
     },
     "metadata": {
      "needs_background": "light"
     },
     "output_type": "display_data"
    }
   ],
   "source": [
    "%%time\n",
    "\n",
    "# graph data frame \n",
    "columnsToRemove=[\"filename\",\"outputbeatclassifier\"]\n",
    "for col in dataframe.columns:\n",
    "    if(col not in columnsToRemove):\n",
    "        dataframe.hist(column=col)"
   ]
  },
  {
   "cell_type": "code",
   "execution_count": 8,
   "metadata": {
    "scrolled": true
   },
   "outputs": [
    {
     "name": "stdout",
     "output_type": "stream",
     "text": [
      "CPU times: user 82.3 ms, sys: 8.84 ms, total: 91.1 ms\n",
      "Wall time: 89.5 ms\n"
     ]
    },
    {
     "data": {
      "text/plain": [
       "<AxesSubplot:>"
      ]
     },
     "execution_count": 8,
     "metadata": {},
     "output_type": "execute_result"
    },
    {
     "data": {
      "image/png": "[encoded data removed]",
      "text/plain": [
       "<Figure size 432x288 with 2 Axes>"
      ]
     },
     "metadata": {
      "needs_background": "light"
     },
     "output_type": "display_data"
    }
   ],
   "source": [
    "%%time\n",
    "\n",
    "# graph heat map for dataframe\n",
    "inputColumns= dataframe.iloc[:,20:]\n",
    "correlation_mat = inputColumns.corr()\n",
    "sns.heatmap(correlation_mat, annot = True)"
   ]
  },
  {
   "cell_type": "code",
   "execution_count": 9,
   "metadata": {},
   "outputs": [
    {
     "name": "stdout",
     "output_type": "stream",
     "text": [
      "CPU times: user 221 µs, sys: 1 µs, total: 222 µs\n",
      "Wall time: 226 µs\n"
     ]
    },
    {
     "data": {
      "text/plain": [
       "0      normal\n",
       "1      normal\n",
       "2      normal\n",
       "3      normal\n",
       "4      normal\n",
       "        ...  \n",
       "534    murmur\n",
       "535    murmur\n",
       "536    murmur\n",
       "537    murmur\n",
       "538    murmur\n",
       "Name: outputbeatclassifier, Length: 539, dtype: object"
      ]
     },
     "execution_count": 9,
     "metadata": {},
     "output_type": "execute_result"
    }
   ],
   "source": [
    "%%time\n",
    "\n",
    "# classification of each file in dataframe\n",
    "x=dataframe.iloc[:, 0]\n",
    "y=dataframe.iloc[:,-1]\n",
    "y\n",
    "# correlation= np.corrcoef(x,y)\n",
    "# print(correlation)"
   ]
  }
 ],
 "metadata": {
  "kernelspec": {
   "display_name": "Python 3",
   "language": "python",
   "name": "python3"
  },
  "language_info": {
   "codemirror_mode": {
    "name": "ipython",
    "version": 3
   },
   "file_extension": ".py",
   "mimetype": "text/x-python",
   "name": "python",
   "nbconvert_exporter": "python",
   "pygments_lexer": "ipython3",
   "version": "3.8.5"
  }
 },
 "nbformat": 4,
 "nbformat_minor": 4
}
